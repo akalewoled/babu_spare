{
 "cells": [
  {
   "cell_type": "code",
   "execution_count": 4,
   "metadata": {},
   "outputs": [
    {
     "name": "stdout",
     "output_type": "stream",
     "text": [
      "BOT_TOKEN: None\n"
     ]
    },
    {
     "ename": "ValueError",
     "evalue": "No BOT_TOKEN found. Please set the BOT_TOKEN environment variable.",
     "output_type": "error",
     "traceback": [
      "\u001b[1;31m---------------------------------------------------------------------------\u001b[0m",
      "\u001b[1;31mValueError\u001b[0m                                Traceback (most recent call last)",
      "Cell \u001b[1;32mIn[4], line 8\u001b[0m\n\u001b[0;32m      5\u001b[0m \u001b[38;5;28mprint\u001b[39m(\u001b[38;5;124mf\u001b[39m\u001b[38;5;124m'\u001b[39m\u001b[38;5;124mBOT_TOKEN: \u001b[39m\u001b[38;5;132;01m{\u001b[39;00mBOT_TOKEN\u001b[38;5;132;01m}\u001b[39;00m\u001b[38;5;124m'\u001b[39m)  \u001b[38;5;66;03m# Add this line to check if the token is set correctly\u001b[39;00m\n\u001b[0;32m      7\u001b[0m \u001b[38;5;28;01mif\u001b[39;00m BOT_TOKEN \u001b[38;5;129;01mis\u001b[39;00m \u001b[38;5;28;01mNone\u001b[39;00m:\n\u001b[1;32m----> 8\u001b[0m     \u001b[38;5;28;01mraise\u001b[39;00m \u001b[38;5;167;01mValueError\u001b[39;00m(\u001b[38;5;124m\"\u001b[39m\u001b[38;5;124mNo BOT_TOKEN found. Please set the BOT_TOKEN environment variable.\u001b[39m\u001b[38;5;124m\"\u001b[39m)\n\u001b[0;32m     10\u001b[0m bot \u001b[38;5;241m=\u001b[39m telebot\u001b[38;5;241m.\u001b[39mTeleBot(BOT_TOKEN)\n\u001b[0;32m     12\u001b[0m \u001b[38;5;129m@bot\u001b[39m\u001b[38;5;241m.\u001b[39mmessage_handler(commands\u001b[38;5;241m=\u001b[39m[\u001b[38;5;124m'\u001b[39m\u001b[38;5;124mstart\u001b[39m\u001b[38;5;124m'\u001b[39m, \u001b[38;5;124m'\u001b[39m\u001b[38;5;124mhello\u001b[39m\u001b[38;5;124m'\u001b[39m])\n\u001b[0;32m     13\u001b[0m \u001b[38;5;28;01mdef\u001b[39;00m \u001b[38;5;21msend_welcome\u001b[39m(message):\n",
      "\u001b[1;31mValueError\u001b[0m: No BOT_TOKEN found. Please set the BOT_TOKEN environment variable."
     ]
    }
   ],
   "source": [
    "import os\n",
    "import telebot\n",
    "\n",
    "BOT_TOKEN = os.environ.get('BOT_TOKEN')\n",
    "print(f'BOT_TOKEN: {BOT_TOKEN}')  # Add this line to check if the token is set correctly\n",
    "\n",
    "if BOT_TOKEN is None:\n",
    "    raise ValueError(\"No BOT_TOKEN found. Please set the BOT_TOKEN environment variable.\")\n",
    "\n",
    "bot = telebot.TeleBot(BOT_TOKEN)\n",
    "\n",
    "@bot.message_handler(commands=['start', 'hello'])\n",
    "def send_welcome(message):\n",
    "    bot.reply_to(message, \"Howdy, how are you doing?\")\n",
    "\n",
    "@bot.message_handler(func=lambda msg: True)\n",
    "def echo_all(message):\n",
    "    bot.reply_to(message, message.text)"
   ]
  }
 ],
 "metadata": {
  "kernelspec": {
   "display_name": "Python 3",
   "language": "python",
   "name": "python3"
  },
  "language_info": {
   "codemirror_mode": {
    "name": "ipython",
    "version": 3
   },
   "file_extension": ".py",
   "mimetype": "text/x-python",
   "name": "python",
   "nbconvert_exporter": "python",
   "pygments_lexer": "ipython3",
   "version": "3.11.3"
  }
 },
 "nbformat": 4,
 "nbformat_minor": 2
}
